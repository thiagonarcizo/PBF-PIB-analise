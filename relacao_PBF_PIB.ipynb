{
  "cells": [
    {
      "cell_type": "code",
      "execution_count": 2,
      "metadata": {
        "id": "FOFNOpMAMffu"
      },
      "outputs": [],
      "source": [
        "import pandas as pd\n",
        "import numpy as np\n",
        "import seaborn as sns\n",
        "import matplotlib.pyplot as plt\n",
        "import missingno as msno\n",
        "from scipy import stats\n",
        "\n",
        "import plotly.express as px\n",
        "from sklearn.preprocessing import StandardScaler, MinMaxScaler"
      ]
    },
    {
      "cell_type": "markdown",
      "metadata": {
        "id": "r-riZv1qQpIF"
      },
      "source": [
        "# Data set do PBF"
      ]
    },
    {
      "cell_type": "code",
      "execution_count": 3,
      "metadata": {
        "id": "GSpo6yNRM89U"
      },
      "outputs": [],
      "source": [
        "#ds:\n",
        "uri = 'datasetvis.csv'\n",
        "ds = pd.read_csv(uri, encoding='latin-1')\n",
        "\n",
        "#cópia de segurança\n",
        "df = ds.copy()\n",
        "\n",
        "#convertendo para formato correto de data\n",
        "df['Referência'] = pd.to_datetime(df['Referência'], format='%m/%Y')\n",
        "\n",
        "#mudando as colunas para tipo float:\n",
        "df[\"Valor do Benefício médio (até Out/2021)\"] = df[\"Valor do Benefício médio (até Out/2021)\"].str.replace(',', '.')\n",
        "df[\"Valor do Benefício médio (até Out/2021)\"] = df[\"Valor do Benefício médio (até Out/2021)\"].astype(float)\n",
        "\n",
        "df[\"Valor repassado às famílias PBF (até Out/2021)\"] = df[\"Valor repassado às famílias PBF (até Out/2021)\"].str.replace(',', '.')\n",
        "df[\"Valor repassado às famílias PBF (até Out/2021)\"] = df[\"Valor repassado às famílias PBF (até Out/2021)\"].astype(float)\n"
      ]
    },
    {
      "cell_type": "code",
      "execution_count": 4,
      "metadata": {
        "colab": {
          "base_uri": "https://localhost:8080/",
          "height": 224
        },
        "id": "C4-Uor3CNMct",
        "outputId": "d32260ed-ceff-45c8-9a26-cbd96aec4d46"
      },
      "outputs": [
        {
          "data": {
            "text/html": [
              "<div>\n",
              "<style scoped>\n",
              "    .dataframe tbody tr th:only-of-type {\n",
              "        vertical-align: middle;\n",
              "    }\n",
              "\n",
              "    .dataframe tbody tr th {\n",
              "        vertical-align: top;\n",
              "    }\n",
              "\n",
              "    .dataframe thead th {\n",
              "        text-align: right;\n",
              "    }\n",
              "</style>\n",
              "<table border=\"1\" class=\"dataframe\">\n",
              "  <thead>\n",
              "    <tr style=\"text-align: right;\">\n",
              "      <th></th>\n",
              "      <th>Referência</th>\n",
              "      <th>Famílias PBF (até Out/2021)</th>\n",
              "      <th>Famílias PBF (a partir de Mar/2023)</th>\n",
              "      <th>Valor repassado às famílias PBF (até Out/2021)</th>\n",
              "      <th>Valor repassado às famílias PBF (a partir de Mar/2023)</th>\n",
              "      <th>Valor do Benefício médio (até Out/2021)</th>\n",
              "      <th>Valor do Benefício médio (a partir de Mar/2023)</th>\n",
              "    </tr>\n",
              "  </thead>\n",
              "  <tbody>\n",
              "    <tr>\n",
              "      <th>0</th>\n",
              "      <td>2004-01-01</td>\n",
              "      <td>3615861.0</td>\n",
              "      <td>NaN</td>\n",
              "      <td>263265315.0</td>\n",
              "      <td>NaN</td>\n",
              "      <td>72.81</td>\n",
              "      <td>NaN</td>\n",
              "    </tr>\n",
              "    <tr>\n",
              "      <th>1</th>\n",
              "      <td>2004-02-01</td>\n",
              "      <td>3615861.0</td>\n",
              "      <td>NaN</td>\n",
              "      <td>263258565.0</td>\n",
              "      <td>NaN</td>\n",
              "      <td>72.81</td>\n",
              "      <td>NaN</td>\n",
              "    </tr>\n",
              "    <tr>\n",
              "      <th>2</th>\n",
              "      <td>2004-03-01</td>\n",
              "      <td>3666020.0</td>\n",
              "      <td>NaN</td>\n",
              "      <td>265752730.0</td>\n",
              "      <td>NaN</td>\n",
              "      <td>72.49</td>\n",
              "      <td>NaN</td>\n",
              "    </tr>\n",
              "    <tr>\n",
              "      <th>3</th>\n",
              "      <td>2004-04-01</td>\n",
              "      <td>3766737.0</td>\n",
              "      <td>NaN</td>\n",
              "      <td>269441935.0</td>\n",
              "      <td>NaN</td>\n",
              "      <td>71.53</td>\n",
              "      <td>NaN</td>\n",
              "    </tr>\n",
              "    <tr>\n",
              "      <th>4</th>\n",
              "      <td>2004-05-01</td>\n",
              "      <td>3967829.0</td>\n",
              "      <td>NaN</td>\n",
              "      <td>280141245.0</td>\n",
              "      <td>NaN</td>\n",
              "      <td>70.60</td>\n",
              "      <td>NaN</td>\n",
              "    </tr>\n",
              "  </tbody>\n",
              "</table>\n",
              "</div>"
            ],
            "text/plain": [
              "  Referência  Famílias PBF (até Out/2021)  \\\n",
              "0 2004-01-01                    3615861.0   \n",
              "1 2004-02-01                    3615861.0   \n",
              "2 2004-03-01                    3666020.0   \n",
              "3 2004-04-01                    3766737.0   \n",
              "4 2004-05-01                    3967829.0   \n",
              "\n",
              "   Famílias PBF (a partir de Mar/2023)  \\\n",
              "0                                  NaN   \n",
              "1                                  NaN   \n",
              "2                                  NaN   \n",
              "3                                  NaN   \n",
              "4                                  NaN   \n",
              "\n",
              "   Valor repassado às famílias PBF (até Out/2021)  \\\n",
              "0                                     263265315.0   \n",
              "1                                     263258565.0   \n",
              "2                                     265752730.0   \n",
              "3                                     269441935.0   \n",
              "4                                     280141245.0   \n",
              "\n",
              "  Valor repassado às famílias PBF (a partir de Mar/2023)  \\\n",
              "0                                                NaN       \n",
              "1                                                NaN       \n",
              "2                                                NaN       \n",
              "3                                                NaN       \n",
              "4                                                NaN       \n",
              "\n",
              "   Valor do Benefício médio (até Out/2021)  \\\n",
              "0                                    72.81   \n",
              "1                                    72.81   \n",
              "2                                    72.49   \n",
              "3                                    71.53   \n",
              "4                                    70.60   \n",
              "\n",
              "  Valor do Benefício médio (a partir de Mar/2023)  \n",
              "0                                             NaN  \n",
              "1                                             NaN  \n",
              "2                                             NaN  \n",
              "3                                             NaN  \n",
              "4                                             NaN  "
            ]
          },
          "execution_count": 4,
          "metadata": {},
          "output_type": "execute_result"
        }
      ],
      "source": [
        "df.head()"
      ]
    },
    {
      "cell_type": "code",
      "execution_count": 5,
      "metadata": {
        "colab": {
          "base_uri": "https://localhost:8080/"
        },
        "id": "jngomQNiNQl2",
        "outputId": "948f8543-ce5e-49db-e009-cad3258f5c5f"
      },
      "outputs": [
        {
          "name": "stdout",
          "output_type": "stream",
          "text": [
            "<class 'pandas.core.frame.DataFrame'>\n",
            "RangeIndex: 223 entries, 0 to 222\n",
            "Data columns (total 7 columns):\n",
            " #   Column                                                  Non-Null Count  Dtype         \n",
            "---  ------                                                  --------------  -----         \n",
            " 0   Referência                                              223 non-null    datetime64[ns]\n",
            " 1   Famílias PBF (até Out/2021)                             214 non-null    float64       \n",
            " 2   Famílias PBF (a partir de Mar/2023)                     9 non-null      float64       \n",
            " 3   Valor repassado às famílias PBF (até Out/2021)          214 non-null    float64       \n",
            " 4   Valor repassado às famílias PBF (a partir de Mar/2023)  9 non-null      object        \n",
            " 5   Valor do Benefício médio (até Out/2021)                 214 non-null    float64       \n",
            " 6   Valor do Benefício médio (a partir de Mar/2023)         9 non-null      object        \n",
            "dtypes: datetime64[ns](1), float64(4), object(2)\n",
            "memory usage: 12.3+ KB\n"
          ]
        }
      ],
      "source": [
        "df.info()"
      ]
    },
    {
      "cell_type": "code",
      "execution_count": 6,
      "metadata": {
        "colab": {
          "base_uri": "https://localhost:8080/",
          "height": 300
        },
        "id": "o_PLLjfjNT5D",
        "outputId": "c05f7994-ae0f-4f4a-a41e-ce331b602f89"
      },
      "outputs": [
        {
          "data": {
            "text/html": [
              "<div>\n",
              "<style scoped>\n",
              "    .dataframe tbody tr th:only-of-type {\n",
              "        vertical-align: middle;\n",
              "    }\n",
              "\n",
              "    .dataframe tbody tr th {\n",
              "        vertical-align: top;\n",
              "    }\n",
              "\n",
              "    .dataframe thead th {\n",
              "        text-align: right;\n",
              "    }\n",
              "</style>\n",
              "<table border=\"1\" class=\"dataframe\">\n",
              "  <thead>\n",
              "    <tr style=\"text-align: right;\">\n",
              "      <th></th>\n",
              "      <th>Famílias PBF (até Out/2021)</th>\n",
              "      <th>Famílias PBF (a partir de Mar/2023)</th>\n",
              "      <th>Valor repassado às famílias PBF (até Out/2021)</th>\n",
              "      <th>Valor do Benefício médio (até Out/2021)</th>\n",
              "    </tr>\n",
              "  </thead>\n",
              "  <tbody>\n",
              "    <tr>\n",
              "      <th>count</th>\n",
              "      <td>2.140000e+02</td>\n",
              "      <td>9.000000e+00</td>\n",
              "      <td>2.140000e+02</td>\n",
              "      <td>214.000000</td>\n",
              "    </tr>\n",
              "    <tr>\n",
              "      <th>mean</th>\n",
              "      <td>1.221130e+07</td>\n",
              "      <td>2.122424e+07</td>\n",
              "      <td>1.529845e+09</td>\n",
              "      <td>119.237336</td>\n",
              "    </tr>\n",
              "    <tr>\n",
              "      <th>std</th>\n",
              "      <td>2.628895e+06</td>\n",
              "      <td>1.716753e+05</td>\n",
              "      <td>8.221950e+08</td>\n",
              "      <td>51.133996</td>\n",
              "    </tr>\n",
              "    <tr>\n",
              "      <th>min</th>\n",
              "      <td>3.615861e+06</td>\n",
              "      <td>2.089921e+07</td>\n",
              "      <td>1.043448e+08</td>\n",
              "      <td>7.310000</td>\n",
              "    </tr>\n",
              "    <tr>\n",
              "      <th>25%</th>\n",
              "      <td>1.107799e+07</td>\n",
              "      <td>2.118632e+07</td>\n",
              "      <td>8.205227e+08</td>\n",
              "      <td>74.837500</td>\n",
              "    </tr>\n",
              "    <tr>\n",
              "      <th>50%</th>\n",
              "      <td>1.341250e+07</td>\n",
              "      <td>2.119418e+07</td>\n",
              "      <td>1.476909e+09</td>\n",
              "      <td>114.490000</td>\n",
              "    </tr>\n",
              "    <tr>\n",
              "      <th>75%</th>\n",
              "      <td>1.390431e+07</td>\n",
              "      <td>2.124902e+07</td>\n",
              "      <td>2.362522e+09</td>\n",
              "      <td>168.847500</td>\n",
              "    </tr>\n",
              "    <tr>\n",
              "      <th>max</th>\n",
              "      <td>1.469510e+07</td>\n",
              "      <td>2.147874e+07</td>\n",
              "      <td>2.712376e+09</td>\n",
              "      <td>191.860000</td>\n",
              "    </tr>\n",
              "  </tbody>\n",
              "</table>\n",
              "</div>"
            ],
            "text/plain": [
              "       Famílias PBF (até Out/2021)  Famílias PBF (a partir de Mar/2023)  \\\n",
              "count                 2.140000e+02                         9.000000e+00   \n",
              "mean                  1.221130e+07                         2.122424e+07   \n",
              "std                   2.628895e+06                         1.716753e+05   \n",
              "min                   3.615861e+06                         2.089921e+07   \n",
              "25%                   1.107799e+07                         2.118632e+07   \n",
              "50%                   1.341250e+07                         2.119418e+07   \n",
              "75%                   1.390431e+07                         2.124902e+07   \n",
              "max                   1.469510e+07                         2.147874e+07   \n",
              "\n",
              "       Valor repassado às famílias PBF (até Out/2021)  \\\n",
              "count                                    2.140000e+02   \n",
              "mean                                     1.529845e+09   \n",
              "std                                      8.221950e+08   \n",
              "min                                      1.043448e+08   \n",
              "25%                                      8.205227e+08   \n",
              "50%                                      1.476909e+09   \n",
              "75%                                      2.362522e+09   \n",
              "max                                      2.712376e+09   \n",
              "\n",
              "       Valor do Benefício médio (até Out/2021)  \n",
              "count                               214.000000  \n",
              "mean                                119.237336  \n",
              "std                                  51.133996  \n",
              "min                                   7.310000  \n",
              "25%                                  74.837500  \n",
              "50%                                 114.490000  \n",
              "75%                                 168.847500  \n",
              "max                                 191.860000  "
            ]
          },
          "execution_count": 6,
          "metadata": {},
          "output_type": "execute_result"
        }
      ],
      "source": [
        "df.describe()"
      ]
    },
    {
      "cell_type": "markdown",
      "metadata": {
        "id": "ZqfCGp2yNzRS"
      },
      "source": [
        "## Extraindo os dados"
      ]
    },
    {
      "cell_type": "code",
      "execution_count": 7,
      "metadata": {
        "colab": {
          "base_uri": "https://localhost:8080/"
        },
        "id": "fyznL5ekN2N4",
        "outputId": "6527c511-adae-4336-dc9c-8e3a3917e6b1"
      },
      "outputs": [
        {
          "name": "stdout",
          "output_type": "stream",
          "text": [
            "A média da coluna \"Valor do Benefício médio (até Out/2021)\" de 01/2004 até 12/2019 é: R$ 123,14.\n"
          ]
        }
      ],
      "source": [
        "#média de jan/2005 até dez/2019\n",
        "mask = (df['Referência'] >= '2004-01-01') & (df['Referência'] <= '2019-12-31')\n",
        "filtered_df = df.loc[mask]\n",
        "\n",
        "media = filtered_df['Valor do Benefício médio (até Out/2021)'].mean()\n",
        "\n",
        "media = str(round(media,2)).replace('.',',')\n",
        "\n",
        "print(f'A média da coluna \"Valor do Benefício médio (até Out/2021)\" de 01/2004 até 12/2019 é: R$ {media}.')"
      ]
    },
    {
      "cell_type": "markdown",
      "metadata": {
        "id": "5tlfIwMoQsvl"
      },
      "source": [
        "# Data set do PIB"
      ]
    },
    {
      "cell_type": "code",
      "execution_count": 8,
      "metadata": {
        "id": "gt0t0J9LQvB6"
      },
      "outputs": [],
      "source": [
        "#ds:\n",
        "uri = 'dsipea.csv'\n",
        "ds2 = pd.read_csv(uri)\n",
        "\n",
        "#cópia de segurança\n",
        "df2 = ds2.copy()\n",
        "\n",
        "#convertendo para formato correto de data\n",
        "df2['Data'] = pd.to_datetime(df2['Data'].astype(str), format='%Y.%m')\n",
        "\n",
        "#mudando o nome da coluna\n",
        "df2 = df2.rename(columns = {\"PIB - R$ - Banco Central do Brasil- Boletim- Seção Atividade Econômica (Bacen / Boletim / Ativ. Ec.) - BM12_PIB12\": \"PIB\"})"
      ]
    },
    {
      "cell_type": "code",
      "execution_count": 9,
      "metadata": {
        "colab": {
          "base_uri": "https://localhost:8080/",
          "height": 206
        },
        "id": "F9p5tTR8ReMp",
        "outputId": "cc760d45-6485-43a7-f9c8-e39e048dcbf2"
      },
      "outputs": [
        {
          "data": {
            "text/html": [
              "<div>\n",
              "<style scoped>\n",
              "    .dataframe tbody tr th:only-of-type {\n",
              "        vertical-align: middle;\n",
              "    }\n",
              "\n",
              "    .dataframe tbody tr th {\n",
              "        vertical-align: top;\n",
              "    }\n",
              "\n",
              "    .dataframe thead th {\n",
              "        text-align: right;\n",
              "    }\n",
              "</style>\n",
              "<table border=\"1\" class=\"dataframe\">\n",
              "  <thead>\n",
              "    <tr style=\"text-align: right;\">\n",
              "      <th></th>\n",
              "      <th>Data</th>\n",
              "      <th>PIB</th>\n",
              "      <th>Unnamed: 2</th>\n",
              "    </tr>\n",
              "  </thead>\n",
              "  <tbody>\n",
              "    <tr>\n",
              "      <th>0</th>\n",
              "      <td>1990-01-01</td>\n",
              "      <td>0.2</td>\n",
              "      <td>NaN</td>\n",
              "    </tr>\n",
              "    <tr>\n",
              "      <th>1</th>\n",
              "      <td>1990-02-01</td>\n",
              "      <td>0.4</td>\n",
              "      <td>NaN</td>\n",
              "    </tr>\n",
              "    <tr>\n",
              "      <th>2</th>\n",
              "      <td>1990-03-01</td>\n",
              "      <td>0.8</td>\n",
              "      <td>NaN</td>\n",
              "    </tr>\n",
              "    <tr>\n",
              "      <th>3</th>\n",
              "      <td>1990-04-01</td>\n",
              "      <td>0.7</td>\n",
              "      <td>NaN</td>\n",
              "    </tr>\n",
              "    <tr>\n",
              "      <th>4</th>\n",
              "      <td>1990-05-01</td>\n",
              "      <td>0.8</td>\n",
              "      <td>NaN</td>\n",
              "    </tr>\n",
              "  </tbody>\n",
              "</table>\n",
              "</div>"
            ],
            "text/plain": [
              "        Data  PIB  Unnamed: 2\n",
              "0 1990-01-01  0.2         NaN\n",
              "1 1990-02-01  0.4         NaN\n",
              "2 1990-03-01  0.8         NaN\n",
              "3 1990-04-01  0.7         NaN\n",
              "4 1990-05-01  0.8         NaN"
            ]
          },
          "execution_count": 9,
          "metadata": {},
          "output_type": "execute_result"
        }
      ],
      "source": [
        "df2.head()"
      ]
    },
    {
      "cell_type": "code",
      "execution_count": 10,
      "metadata": {
        "colab": {
          "base_uri": "https://localhost:8080/"
        },
        "id": "-j4thP1QR_Ue",
        "outputId": "5fc00fee-568d-4281-ee68-4a2360285932"
      },
      "outputs": [
        {
          "name": "stdout",
          "output_type": "stream",
          "text": [
            "<class 'pandas.core.frame.DataFrame'>\n",
            "RangeIndex: 406 entries, 0 to 405\n",
            "Data columns (total 3 columns):\n",
            " #   Column      Non-Null Count  Dtype         \n",
            "---  ------      --------------  -----         \n",
            " 0   Data        406 non-null    datetime64[ns]\n",
            " 1   PIB         406 non-null    float64       \n",
            " 2   Unnamed: 2  0 non-null      float64       \n",
            "dtypes: datetime64[ns](1), float64(2)\n",
            "memory usage: 9.6 KB\n"
          ]
        }
      ],
      "source": [
        "df2.info()"
      ]
    },
    {
      "cell_type": "code",
      "execution_count": 11,
      "metadata": {
        "colab": {
          "base_uri": "https://localhost:8080/",
          "height": 206
        },
        "id": "TTRHcRgqSPjx",
        "outputId": "15bc7a83-569e-43f8-ecd7-93ce7e378bbb"
      },
      "outputs": [
        {
          "data": {
            "text/html": [
              "<div>\n",
              "<style scoped>\n",
              "    .dataframe tbody tr th:only-of-type {\n",
              "        vertical-align: middle;\n",
              "    }\n",
              "\n",
              "    .dataframe tbody tr th {\n",
              "        vertical-align: top;\n",
              "    }\n",
              "\n",
              "    .dataframe thead th {\n",
              "        text-align: right;\n",
              "    }\n",
              "</style>\n",
              "<table border=\"1\" class=\"dataframe\">\n",
              "  <thead>\n",
              "    <tr style=\"text-align: right;\">\n",
              "      <th></th>\n",
              "      <th>Data</th>\n",
              "      <th>PIB</th>\n",
              "      <th>Unnamed: 2</th>\n",
              "    </tr>\n",
              "  </thead>\n",
              "  <tbody>\n",
              "    <tr>\n",
              "      <th>0</th>\n",
              "      <td>2004-01-01</td>\n",
              "      <td>144558.6</td>\n",
              "      <td>NaN</td>\n",
              "    </tr>\n",
              "    <tr>\n",
              "      <th>1</th>\n",
              "      <td>2004-02-01</td>\n",
              "      <td>142861.3</td>\n",
              "      <td>NaN</td>\n",
              "    </tr>\n",
              "    <tr>\n",
              "      <th>2</th>\n",
              "      <td>2004-03-01</td>\n",
              "      <td>157363.5</td>\n",
              "      <td>NaN</td>\n",
              "    </tr>\n",
              "    <tr>\n",
              "      <th>3</th>\n",
              "      <td>2004-04-01</td>\n",
              "      <td>156953.9</td>\n",
              "      <td>NaN</td>\n",
              "    </tr>\n",
              "    <tr>\n",
              "      <th>4</th>\n",
              "      <td>2004-05-01</td>\n",
              "      <td>159498.9</td>\n",
              "      <td>NaN</td>\n",
              "    </tr>\n",
              "  </tbody>\n",
              "</table>\n",
              "</div>"
            ],
            "text/plain": [
              "        Data       PIB  Unnamed: 2\n",
              "0 2004-01-01  144558.6         NaN\n",
              "1 2004-02-01  142861.3         NaN\n",
              "2 2004-03-01  157363.5         NaN\n",
              "3 2004-04-01  156953.9         NaN\n",
              "4 2004-05-01  159498.9         NaN"
            ]
          },
          "execution_count": 11,
          "metadata": {},
          "output_type": "execute_result"
        }
      ],
      "source": [
        "#média de jan/2005 até dez/2019\n",
        "mask2 = (df2['Data'] >= '2004-01-01') & (df2['Data'] <= '2019-12-31')\n",
        "filtered_df2 = df2.loc[mask2].reset_index(drop=True)\n",
        "\n",
        "filtered_df2.head()"
      ]
    },
    {
      "cell_type": "markdown",
      "metadata": {
        "id": "FhP66MZsSv3k"
      },
      "source": [
        "# Comparando os valores"
      ]
    },
    {
      "cell_type": "code",
      "execution_count": 12,
      "metadata": {
        "id": "DreGnXkbSxdt"
      },
      "outputs": [
        {
          "data": {
            "text/html": [
              "<div>\n",
              "<style scoped>\n",
              "    .dataframe tbody tr th:only-of-type {\n",
              "        vertical-align: middle;\n",
              "    }\n",
              "\n",
              "    .dataframe tbody tr th {\n",
              "        vertical-align: top;\n",
              "    }\n",
              "\n",
              "    .dataframe thead th {\n",
              "        text-align: right;\n",
              "    }\n",
              "</style>\n",
              "<table border=\"1\" class=\"dataframe\">\n",
              "  <thead>\n",
              "    <tr style=\"text-align: right;\">\n",
              "      <th></th>\n",
              "      <th>Ano</th>\n",
              "      <th>Valor repassado às famílias PBF</th>\n",
              "    </tr>\n",
              "  </thead>\n",
              "  <tbody>\n",
              "    <tr>\n",
              "      <th>0</th>\n",
              "      <td>2004</td>\n",
              "      <td>3.791785e+09</td>\n",
              "    </tr>\n",
              "    <tr>\n",
              "      <th>1</th>\n",
              "      <td>2005</td>\n",
              "      <td>5.691667e+09</td>\n",
              "    </tr>\n",
              "    <tr>\n",
              "      <th>2</th>\n",
              "      <td>2006</td>\n",
              "      <td>7.524661e+09</td>\n",
              "    </tr>\n",
              "    <tr>\n",
              "      <th>3</th>\n",
              "      <td>2007</td>\n",
              "      <td>8.965500e+09</td>\n",
              "    </tr>\n",
              "    <tr>\n",
              "      <th>4</th>\n",
              "      <td>2008</td>\n",
              "      <td>1.060650e+10</td>\n",
              "    </tr>\n",
              "  </tbody>\n",
              "</table>\n",
              "</div>"
            ],
            "text/plain": [
              "    Ano  Valor repassado às famílias PBF\n",
              "0  2004                     3.791785e+09\n",
              "1  2005                     5.691667e+09\n",
              "2  2006                     7.524661e+09\n",
              "3  2007                     8.965500e+09\n",
              "4  2008                     1.060650e+10"
            ]
          },
          "execution_count": 12,
          "metadata": {},
          "output_type": "execute_result"
        }
      ],
      "source": [
        "#soma do valor do benefício recebido pelas famílias para obter o total anual\n",
        "df3 = df.groupby(df['Referência'].dt.year)['Valor repassado às famílias PBF (até Out/2021)'].sum().reset_index()\n",
        "\n",
        "#renomeando\n",
        "df3 = df3.rename(columns = {\"Referência\": \"Ano\", \"Valor repassado às famílias PBF (até Out/2021)\": \"Valor repassado às famílias PBF\"})\n",
        "\n",
        "df3.head()"
      ]
    },
    {
      "cell_type": "code",
      "execution_count": 13,
      "metadata": {},
      "outputs": [
        {
          "data": {
            "text/html": [
              "<div>\n",
              "<style scoped>\n",
              "    .dataframe tbody tr th:only-of-type {\n",
              "        vertical-align: middle;\n",
              "    }\n",
              "\n",
              "    .dataframe tbody tr th {\n",
              "        vertical-align: top;\n",
              "    }\n",
              "\n",
              "    .dataframe thead th {\n",
              "        text-align: right;\n",
              "    }\n",
              "</style>\n",
              "<table border=\"1\" class=\"dataframe\">\n",
              "  <thead>\n",
              "    <tr style=\"text-align: right;\">\n",
              "      <th></th>\n",
              "      <th>Ano</th>\n",
              "      <th>PIB Anual</th>\n",
              "    </tr>\n",
              "  </thead>\n",
              "  <tbody>\n",
              "    <tr>\n",
              "      <th>0</th>\n",
              "      <td>2004</td>\n",
              "      <td>1.957751e+12</td>\n",
              "    </tr>\n",
              "    <tr>\n",
              "      <th>1</th>\n",
              "      <td>2005</td>\n",
              "      <td>2.170585e+12</td>\n",
              "    </tr>\n",
              "    <tr>\n",
              "      <th>2</th>\n",
              "      <td>2006</td>\n",
              "      <td>2.409450e+12</td>\n",
              "    </tr>\n",
              "    <tr>\n",
              "      <th>3</th>\n",
              "      <td>2007</td>\n",
              "      <td>2.720263e+12</td>\n",
              "    </tr>\n",
              "    <tr>\n",
              "      <th>4</th>\n",
              "      <td>2008</td>\n",
              "      <td>3.109803e+12</td>\n",
              "    </tr>\n",
              "  </tbody>\n",
              "</table>\n",
              "</div>"
            ],
            "text/plain": [
              "    Ano     PIB Anual\n",
              "0  2004  1.957751e+12\n",
              "1  2005  2.170585e+12\n",
              "2  2006  2.409450e+12\n",
              "3  2007  2.720263e+12\n",
              "4  2008  3.109803e+12"
            ]
          },
          "execution_count": 13,
          "metadata": {},
          "output_type": "execute_result"
        }
      ],
      "source": [
        "#soma mensal do pib por ano\n",
        "df4 = filtered_df2.groupby(filtered_df2['Data'].dt.year)['PIB'].sum().reset_index()\n",
        "\n",
        "#multiplicando por 10^6 para obter o valor em reais\n",
        "df4['PIB'] = df4['PIB'] * 1e6\n",
        "\n",
        "#renomeando\n",
        "df4 = df4.rename(columns = {\"Data\": \"Ano\", \"PIB\": \"PIB Anual\"})\n",
        "\n",
        "df4.head()"
      ]
    },
    {
      "cell_type": "code",
      "execution_count": 14,
      "metadata": {},
      "outputs": [
        {
          "data": {
            "text/html": [
              "<div>\n",
              "<style scoped>\n",
              "    .dataframe tbody tr th:only-of-type {\n",
              "        vertical-align: middle;\n",
              "    }\n",
              "\n",
              "    .dataframe tbody tr th {\n",
              "        vertical-align: top;\n",
              "    }\n",
              "\n",
              "    .dataframe thead th {\n",
              "        text-align: right;\n",
              "    }\n",
              "</style>\n",
              "<table border=\"1\" class=\"dataframe\">\n",
              "  <thead>\n",
              "    <tr style=\"text-align: right;\">\n",
              "      <th></th>\n",
              "      <th>Ano</th>\n",
              "      <th>%PBF em relação ao PIB</th>\n",
              "    </tr>\n",
              "  </thead>\n",
              "  <tbody>\n",
              "    <tr>\n",
              "      <th>0</th>\n",
              "      <td>2004</td>\n",
              "      <td>0.193681</td>\n",
              "    </tr>\n",
              "    <tr>\n",
              "      <th>1</th>\n",
              "      <td>2005</td>\n",
              "      <td>0.262218</td>\n",
              "    </tr>\n",
              "    <tr>\n",
              "      <th>2</th>\n",
              "      <td>2006</td>\n",
              "      <td>0.312298</td>\n",
              "    </tr>\n",
              "    <tr>\n",
              "      <th>3</th>\n",
              "      <td>2007</td>\n",
              "      <td>0.329582</td>\n",
              "    </tr>\n",
              "    <tr>\n",
              "      <th>4</th>\n",
              "      <td>2008</td>\n",
              "      <td>0.341067</td>\n",
              "    </tr>\n",
              "  </tbody>\n",
              "</table>\n",
              "</div>"
            ],
            "text/plain": [
              "    Ano  %PBF em relação ao PIB\n",
              "0  2004                0.193681\n",
              "1  2005                0.262218\n",
              "2  2006                0.312298\n",
              "3  2007                0.329582\n",
              "4  2008                0.341067"
            ]
          },
          "execution_count": 14,
          "metadata": {},
          "output_type": "execute_result"
        }
      ],
      "source": [
        "df5 = pd.merge(df3, df4, on='Ano')\n",
        "\n",
        "#relacionando os valores anuais do recebimento do PBF com a PIB anual criando um novo DF\n",
        "df5['%PBF em relação ao PIB'] = (df3['Valor repassado às famílias PBF'] / df4['PIB Anual']) * 100\n",
        "\n",
        "new_df = df5[['Ano', '%PBF em relação ao PIB']]\n",
        "\n",
        "new_df.head()\n"
      ]
    },
    {
      "cell_type": "code",
      "execution_count": 15,
      "metadata": {},
      "outputs": [
        {
          "data": {
            "image/png": "[encoded data removed]",
            "text/plain": [
              "<Figure size 2000x1000 with 1 Axes>"
            ]
          },
          "metadata": {},
          "output_type": "display_data"
        }
      ],
      "source": [
        "#barplot anual dos valores \"Média Total (PBF)/PIB\"\n",
        "plt.figure(figsize=(20,10))\n",
        "sns.barplot(x='Ano', y='%PBF em relação ao PIB', data=df5, color='#1f77b4')\n",
        "plt.title('Porcentagem do PBF em relação ao PIB (anual)', fontsize=20)\n",
        "plt.xlabel('Ano', fontsize=16)\n",
        "plt.ylabel('Participação do PBF no PIB (%)', fontsize=16)\n",
        "\n",
        "#escrevendo os valores em cima das barras\n",
        "for index, row in df5.iterrows():\n",
        "    plt.annotate(f\"{str(round(row['%PBF em relação ao PIB'],2))}%\", (index, row['%PBF em relação ao PIB']), ha='center', va='bottom')\n",
        "\n",
        "#escrevendo a fonte no rodapé\n",
        "plt.annotate(\"Fonte: Ministério da Cidadania e IPEA\", (0, 0), (800, -65), xycoords='axes fraction', textcoords='offset points', va='bottom', fontsize=16)\n",
        "\n",
        "plt.show()"
      ]
    }
  ],
  "metadata": {
    "colab": {
      "provenance": []
    },
    "kernelspec": {
      "display_name": "Python 3",
      "name": "python3"
    },
    "language_info": {
      "codemirror_mode": {
        "name": "ipython",
        "version": 3
      },
      "file_extension": ".py",
      "mimetype": "text/x-python",
      "name": "python",
      "nbconvert_exporter": "python",
      "pygments_lexer": "ipython3",
      "version": "3.10.5"
    }
  },
  "nbformat": 4,
  "nbformat_minor": 0
}
